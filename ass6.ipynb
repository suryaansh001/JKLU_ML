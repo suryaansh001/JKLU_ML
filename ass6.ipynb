{
 "cells": [
  {
   "cell_type": "code",
   "execution_count": 3,
   "metadata": {},
   "outputs": [],
   "source": [
    "import numpy as np \n",
    "import pandas as pd\n",
    "import matplotlib.pyplot as plt\n",
    "import random as rand"
   ]
  },
  {
   "cell_type": "markdown",
   "metadata": {},
   "source": [
    "1. Randomly shuffle the dataset by taking a random seed of “42”. Create a training and testing set\n",
    "partitions in the ratio of 70% : 30% by taking last 30% rows in the test set. The remaining rows will be\n",
    "the training set. Make sure that the columns have the same datatypes. Display the mean values for each\n",
    "columns and the number of samples belonging to each category (admitted and not-admitted)"
   ]
  },
  {
   "cell_type": "code",
   "execution_count": 8,
   "metadata": {},
   "outputs": [
    {
     "name": "stdout",
     "output_type": "stream",
     "text": [
      "        Subject1   Subject2     Status\n",
      "count  99.000000  99.000000  99.000000\n",
      "mean   65.957614  66.102779   0.606061\n",
      "std    19.302009  18.638875   0.491108\n",
      "min    30.058822  30.603263   0.000000\n",
      "25%    51.297736  47.978125   0.000000\n",
      "50%    67.319257  66.589353   1.000000\n",
      "75%    80.234877  79.876423   1.000000\n",
      "max    99.827858  98.869436   1.000000\n",
      "<class 'pandas.core.frame.DataFrame'>\n",
      "RangeIndex: 99 entries, 0 to 98\n",
      "Data columns (total 3 columns):\n",
      " #   Column    Non-Null Count  Dtype  \n",
      "---  ------    --------------  -----  \n",
      " 0   Subject1  99 non-null     float64\n",
      " 1   Subject2  99 non-null     float64\n",
      " 2   Status    99 non-null     int64  \n",
      "dtypes: float64(2), int64(1)\n",
      "memory usage: 2.4 KB\n",
      "None\n",
      "     Subject1   Subject2  Status\n",
      "89  94.094331  77.159105       1\n",
      "90  90.448551  87.508792       1\n",
      "91  55.482161  35.570703       0\n",
      "92  74.492692  84.845137       1\n",
      "93  89.845807  45.358284       1\n",
      "94  83.489163  48.380286       1\n",
      "95  42.261701  87.103851       1\n",
      "96  99.315009  68.775409       1\n",
      "97  55.340018  64.931938       1\n",
      "98  74.775893  89.529813       1\n"
     ]
    }
   ],
   "source": [
    "rand.seed(42)\n",
    "#giving the names to columns \n",
    "df=pd.read_csv('student_marks.csv')\n",
    "# print(df.head(10))\n",
    "df.columns=['Subject1','Subject2','Status']\n",
    "# print(df.head(10))\n",
    "print(df.describe())\n",
    "print(df.info())\n",
    "print(df.tail(10))"
   ]
  },
  {
   "cell_type": "code",
   "execution_count": 23,
   "metadata": {},
   "outputs": [],
   "source": [
    "\n",
    "#converting the columns into int \n",
    "df['Subject1']=df['Subject1'].astype(int)\n",
    "df['Subject2']=df['Subject2'].astype(int)\n",
    "df['Status']=df['Status'].astype(int)"
   ]
  },
  {
   "cell_type": "code",
   "execution_count": 25,
   "metadata": {},
   "outputs": [
    {
     "name": "stdout",
     "output_type": "stream",
     "text": [
      "65.51515151515152\n",
      "65.54545454545455\n"
     ]
    }
   ],
   "source": [
    "#mean of the columns\n",
    "print(df['Subject1'].mean())\n",
    "print(df['Subject2'].mean())\n",
    "# print(df['Status'].mean())"
   ]
  },
  {
   "cell_type": "code",
   "execution_count": null,
   "metadata": {},
   "outputs": [
    {
     "name": "stdout",
     "output_type": "stream",
     "text": [
      "(99, 3)\n",
      "29\n",
      "70\n",
      "size of test set (29, 3)\n",
      "size of train set (70, 3)\n"
     ]
    }
   ],
   "source": [
    "print(df.shape)\n",
    "#there are 99 rows \n",
    "#shuffling the datafra,e\n",
    "np.random.seed(42)\n",
    "np.random.shuffle(df.values)\n",
    "# print(df.head(10))\n",
    "test_set_size=int(0.3*df.shape[0])\n",
    "train_set_size=df.shape[0]-test_set_size\n",
    "print(test_set_size)\n",
    "print(train_set_size)\n",
    "train_Set=df.head(train_set_size)\n",
    "test_Set=df.tail(test_set_size)\n",
    "# print(\"train set\",train_Set.head(10))\n",
    "# print(\"test set\",test_Set.head(10))\n",
    "print(\"size of test set\",test_Set.shape)\n",
    "print(\"size of train set\",train_Set.shape)\n",
    "\n"
   ]
  },
  {
   "cell_type": "markdown",
   "metadata": {},
   "source": [
    ". Create a scatter plot using the training set and mark the points differently for different classes."
   ]
  },
  {
   "cell_type": "code",
   "execution_count": 26,
   "metadata": {},
   "outputs": [
    {
     "data": {
      "image/png": "[encoded data removed]",
      "text/plain": [
       "<Figure size 640x480 with 1 Axes>"
      ]
     },
     "metadata": {},
     "output_type": "display_data"
    }
   ],
   "source": [
    "#scatter plot of test size\n",
    "\n",
    "plt.scatter(test_Set['Subject1'],test_Set['Subject2'],c=test_Set['Status'])\n",
    "plt.xlabel('Subject1')\n",
    "plt.ylabel('Subject2')\n",
    "plt.title('Test set')\n",
    "plt.show()\n"
   ]
  },
  {
   "cell_type": "code",
   "execution_count": null,
   "metadata": {},
   "outputs": [],
   "source": []
  },
  {
   "cell_type": "code",
   "execution_count": 27,
   "metadata": {},
   "outputs": [],
   "source": [
    "from scipy.optimize import fmin_tnc"
   ]
  },
  {
   "cell_type": "markdown",
   "metadata": {},
   "source": []
  },
  {
   "cell_type": "markdown",
   "metadata": {},
   "source": [
    "3. Plot the decision boundary on the previously drawn scatter plot."
   ]
  },
  {
   "cell_type": "code",
   "execution_count": 37,
   "metadata": {},
   "outputs": [],
   "source": [
    "# import numpy as np\n",
    "# import matplotlib.pyplot as plt\n",
    "# from scipy.optimize import fmin_tnc\n",
    "\n",
    "# class MyLogisticRegression:\n",
    "#     def __init__(self, learn_rate=0.001, epochs=1000):\n",
    "#         self.learn_rate = learn_rate\n",
    "#         self.epochs = epochs\n",
    "\n",
    "#     def sigmoid(self, x, weights, bias):\n",
    "#         return 1 / (1 + np.exp(-(np.dot(x, weights) + bias)))\n",
    "\n",
    "#     def cost_fn(self, params, x, y):\n",
    "#         weights = params[:-1]\n",
    "#         bias = params[-1]\n",
    "#         h = self.sigmoid(x, weights, bias)\n",
    "#         m = x.shape[0]\n",
    "#         cost = (-1/m) * np.sum(y * np.log(h) + (1 - y) * np.log(1 - h))\n",
    "#         return cost\n",
    "\n",
    "#     def gradient_fn(self, params, x, y):\n",
    "#         weights = params[:-1]\n",
    "#         bias = params[-1]\n",
    "#         h = self.sigmoid(x, weights, bias)\n",
    "#         m = x.shape[0]\n",
    "#         dw = (1/m) * np.dot(x.T, (h - y))\n",
    "#         db = (1/m) * np.sum(h - y)\n",
    "#         grad = np.append(dw, db)\n",
    "#         return grad\n",
    "\n",
    "#     def fit(self, x, y):\n",
    "#         m, n = x.shape\n",
    "#         initial_params = np.zeros(n + 1)\n",
    "#         x_with_bias = np.hstack([x, np.ones((m, 1))])\n",
    "#         result = fmin_tnc(func=self.cost_fn, x0=initial_params, fprime=self.gradient_fn, args=(x_with_bias, y))\n",
    "#         optimal_params = result[0]\n",
    "#         self.weights = optimal_params[:-1]\n",
    "#         self.bias = optimal_params[-1]\n",
    "\n",
    "#     def predict(self, x):\n",
    "#         m = x.shape[0]\n",
    "#         x_with_bias = np.hstack([x, np.ones((m, 1))])\n",
    "#         predictions = self.sigmoid(x_with_bias, self.weights, self.bias)\n",
    "#         return (predictions >= 0.5).astype(int)\n"
   ]
  },
  {
   "cell_type": "code",
   "execution_count": 39,
   "metadata": {},
   "outputs": [],
   "source": [
    "\n",
    "\n",
    "class MyLogisticRegression:\n",
    "    def __init__(self,learn_rate=0.001,epochs=1000):\n",
    "        self.learn_rate =learn_rate\n",
    "        self.epochs =epochs\n",
    "\n",
    "    def sigmoid(self,x,weights,bias):\n",
    "        return 1 / (1 + np.exp(-(np.dot(x,weights) + bias)))\n",
    "\n",
    "    def cost_fn(self,params,x,y):\n",
    "        weights =params[:-1]\n",
    "        bias =params[-1]\n",
    "        h =self.sigmoid(x,weights,bias)\n",
    "        m =x.shape[0]\n",
    "        cost =(-1/m) * np.sum(y * np.log(h) + (1-y) * np.log(1-h))\n",
    "        return cost\n",
    "\n",
    "    def gradient_fn(self,params,x,y):\n",
    "        weights =params[:-1]\n",
    "        bias =params[-1]\n",
    "        h =self.sigmoid(x,weights,bias)\n",
    "        m =x.shape[0]\n",
    "        dw =(1/m)*np.dot(x.T,(h-y))\n",
    "        db =(1/m)*np.sum(h-y)\n",
    "        grad =np.append(dw,db)\n",
    "        return grad\n",
    "\n",
    "    def fit(self,x,y):\n",
    "        m,n =x.shape\n",
    "        initial_params =np.zeros(n + 1)\n",
    "        x_with_bias =np.hstack([x,np.ones((m,1))])\n",
    "        result =fmin_tnc(func=self.cost_fn,x0=initial_params,fprime=self.gradient_fn,args=(x_with_bias,y))\n",
    "        optimal_params =result[0]\n",
    "        self.weights =optimal_params[:-1]\n",
    "        self.bias =optimal_params[-1]\n",
    "\n",
    "    def predict(self,x):\n",
    "        m =x.shape[0]\n",
    "        x_with_bias =np.hstack([x,np.ones((m,1))])\n",
    "        predictions =self.sigmoid(x_with_bias,self.weights,self.bias)\n",
    "        return (predictions >=0.5).astype(int)\n"
   ]
  },
  {
   "cell_type": "code",
   "execution_count": null,
   "metadata": {},
   "outputs": [],
   "source": [
    "mport numpy as np\n",
    "from scipy.optimize import fmin_tnc\n",
    "class MyLogisticRegression:\n",
    "    def _init_(self):\n",
    "        self.theta=None\n",
    "\n",
    "    def sigmoid(self,z):\n",
    "        sig= 1/(1+np.exp(-z))\n",
    "        return sig\n",
    "    \n",
    "    def hypothesis_func(self,theta,x):\n",
    "        h_x=self.sigmoid(np.dot(x,theta))\n",
    "        return h_x\n",
    "    \n",
    "    def cost_func(self,theta,x,y):\n",
    "        m=y.size\n",
    "        cf= (-1/m)*np.sum(y*np.log(self.hypothesis_func(theta,x))+(1-y)*np.log(1-self.hypothesis_func(theta,x)))\n",
    "        return cf\n",
    "    \n",
    "    def gradient(self,theta,x,y):\n",
    "        m=x.shape[0]\n",
    "        grad= (1/m) * np.dot(x.T,self.hypothesis_func(theta,x)-y)\n",
    "        return grad\n",
    "    \n",
    "    def fit(self,x,y):\n",
    "        init_theta=np.zeros(x.shape[1])\n",
    "        res=fmin_tnc(func=self.cost_func,x0=init_theta,fprime=self.gradient,args=(x,y))\n",
    "        \n",
    "        self.theta=res[0]\n",
    "        return self.theta\n",
    "    \n",
    "    def pred(self,x):\n",
    "        y_hypo_func=self.hypothesis_func(self.theta,x)\n",
    "        return np.where(y_hypo_func >= 0.5,1,0)\n",
    "    \n",
    "np.random.seed(42)\n",
    "m = 100  \n",
    "x = np.random.randn(m, 2)  \n",
    "y = (x[:, 0] + x[:, 1] > 0).astype(int)  \n",
    "\n",
    "x = np.hstack((np.ones((m, 1)), x))  \n",
    "\n",
    "log_clf= MyLogisticRegression()\n",
    "theta_opt = log_clf.fit(x, y)\n",
    "print(\"Optimized Theta:\", theta_opt)\n",
    "\n",
    "cost=log_clf.cost_func(theta_opt,x,y)\n",
    "print(\"cost :\",cost)"
   ]
  },
  {
   "cell_type": "markdown",
   "metadata": {},
   "source": [
    "5. Create more columns in the dataframes (training and test) corresponding to higher order terms x 12,\n",
    "x22, and x1x2 ."
   ]
  },
  {
   "cell_type": "code",
   "execution_count": 36,
   "metadata": {},
   "outputs": [
    {
     "name": "stdout",
     "output_type": "stream",
     "text": [
      "   Subject1  Subject2  Status  Subject1^2  Subject2^2  Subject1*Subject2\n",
      "0        30        43       0         900        1849               1290\n",
      "1        35        72       0        1225        5184               2520\n",
      "2        60        86       1        3600        7396               5160\n",
      "3        79        75       1        6241        5625               5925\n",
      "4        45        56       0        2025        3136               2520\n",
      "5        61        96       1        3721        9216               5856\n",
      "6        75        46       1        5625        2116               3450\n",
      "7        76        87       1        5776        7569               6612\n",
      "8        84        43       1        7056        1849               3612\n",
      "9        95        38       0        9025        1444               3610\n",
      "        Subject1   Subject2     Status   Subject1^2   Subject2^2  \\\n",
      "count  99.000000  99.000000  99.000000    99.000000    99.000000   \n",
      "mean   65.515152  65.545455   0.606061  4659.353535  4639.868687   \n",
      "std    19.257844  18.632467   0.491108  2510.873437  2489.984660   \n",
      "min    30.000000  30.000000   0.000000   900.000000   900.000000   \n",
      "25%    51.000000  47.500000   0.000000  2601.000000  2256.500000   \n",
      "50%    67.000000  66.000000   1.000000  4489.000000  4356.000000   \n",
      "75%    80.000000  79.000000   1.000000  6400.000000  6242.000000   \n",
      "max    99.000000  98.000000   1.000000  9801.000000  9604.000000   \n",
      "\n",
      "       Subject1*Subject2  \n",
      "count          99.000000  \n",
      "mean         4288.878788  \n",
      "std          1761.856629  \n",
      "min          1290.000000  \n",
      "25%          2934.000000  \n",
      "50%          3870.000000  \n",
      "75%          5851.000000  \n",
      "max          8342.000000  \n",
      "<class 'pandas.core.frame.DataFrame'>\n",
      "RangeIndex: 99 entries, 0 to 98\n",
      "Data columns (total 6 columns):\n",
      " #   Column             Non-Null Count  Dtype\n",
      "---  ------             --------------  -----\n",
      " 0   Subject1           99 non-null     int64\n",
      " 1   Subject2           99 non-null     int64\n",
      " 2   Status             99 non-null     int64\n",
      " 3   Subject1^2         99 non-null     int64\n",
      " 4   Subject2^2         99 non-null     int64\n",
      " 5   Subject1*Subject2  99 non-null     int64\n",
      "dtypes: int64(6)\n",
      "memory usage: 4.8 KB\n",
      "None\n",
      "    Subject1  Subject2  Status  Subject1^2  Subject2^2  Subject1*Subject2\n",
      "89        94        77       1        8836        5929               7238\n",
      "90        90        87       1        8100        7569               7830\n",
      "91        55        35       0        3025        1225               1925\n",
      "92        74        84       1        5476        7056               6216\n",
      "93        89        45       1        7921        2025               4005\n",
      "94        83        48       1        6889        2304               3984\n",
      "95        42        87       1        1764        7569               3654\n",
      "96        99        68       1        9801        4624               6732\n",
      "97        55        64       1        3025        4096               3520\n",
      "98        74        89       1        5476        7921               6586\n"
     ]
    }
   ],
   "source": [
    "#createin new columns\n",
    "df['Subject1^2']=df['Subject1']**2\n",
    "df['Subject2^2']=df['Subject2']**2\n",
    "df['Subject1*Subject2']=df['Subject1']*df['Subject2']\n",
    "print(df.head(10))\n",
    "print(df.describe())\n",
    "print(df.info())\n",
    "print(df.tail(10))"
   ]
  }
 ],
 "metadata": {
  "kernelspec": {
   "display_name": "jkluML",
   "language": "python",
   "name": "python3"
  },
  "language_info": {
   "codemirror_mode": {
    "name": "ipython",
    "version": 3
   },
   "file_extension": ".py",
   "mimetype": "text/x-python",
   "name": "python",
   "nbconvert_exporter": "python",
   "pygments_lexer": "ipython3",
   "version": "3.12.9"
  }
 },
 "nbformat": 4,
 "nbformat_minor": 2
}
